{
 "cells": [
  {
   "cell_type": "markdown",
   "id": "649beff7",
   "metadata": {},
   "source": [
    "# ⚽ Soccer Player Re-Identification & Tracking using YOLOv11 + BoT-SORT\n",
    "This Colab notebook performs player detection and tracking in a soccer video.\n",
    "Players who go out of frame and re-enter retain their IDs using BoT-SORT.\n",
    "\n",
    "## 🔧 Steps to Follow:\n",
    "1. Install Dependencies\n",
    "2. Upload Model and Video\n",
    "3. Run Player Tracking\n",
    "4. Download Output"
   ]
  },
  {
   "cell_type": "code",
   "execution_count": null,
   "id": "5e1efd12",
   "metadata": {},
   "outputs": [],
   "source": [
    "# ✅ Install Dependencies\n",
    "!pip install ultralytics opencv-python"
   ]
  },
  {
   "cell_type": "markdown",
   "id": "3a9eab0c",
   "metadata": {},
   "source": [
    "## 📁 Upload Required Files\n",
    "- `best.pt` (YOLOv11 model)\n",
    "- `15sec_input_720p.mp4` (15-second soccer video)"
   ]
  },
  {
   "cell_type": "code",
   "execution_count": null,
   "id": "43bb8d38",
   "metadata": {},
   "outputs": [],
   "source": [
    "from google.colab import files\n",
    "print(\"Upload 'best.pt' (YOLOv11 model)\")\n",
    "files.upload()\n",
    "\n",
    "print(\"Upload '15sec_input_720p.mp4' (Video)\")\n",
    "files.upload()"
   ]
  },
  {
   "cell_type": "markdown",
   "id": "e1684bdc",
   "metadata": {},
   "source": [
    "## 🚀 Run Player Tracking"
   ]
  },
  {
   "cell_type": "code",
   "execution_count": null,
   "id": "0916368d",
   "metadata": {},
   "outputs": [],
   "source": [
    "from ultralytics import YOLO\n",
    "model = YOLO('/content/best.pt')\n",
    "\n",
    "results = model.track(\n",
    "    source='/content/15sec_input_720p.mp4',\n",
    "    save=True,\n",
    "    show=True,\n",
    "    tracker='botsort.yaml',\n",
    "    project='runs/detect',\n",
    "    name='track',\n",
    "    exist_ok=True\n",
    ")"
   ]
  },
  {
   "cell_type": "markdown",
   "id": "25c3c4e8",
   "metadata": {},
   "source": [
    "## 💾 Download Output"
   ]
  },
  {
   "cell_type": "code",
   "execution_count": null,
   "id": "552595a1",
   "metadata": {},
   "outputs": [],
   "source": [
    "import shutil\n",
    "from google.colab import files\n",
    "\n",
    "shutil.make_archive('tracked_output', 'zip', 'runs/detect/track')\n",
    "files.download('tracked_output.zip')"
   ]
  },
  {
   "cell_type": "markdown",
   "id": "3d549481",
   "metadata": {},
   "source": [
    "---\n",
    "**Note:** Ensure `botsort.yaml` is available in the environment or configured properly.\n",
    "\n",
    "**Output:** Zipped folder with the tracked video will be downloaded.\n"
   ]
  }
 ],
 "metadata": {
  "accelerator": "GPU",
  "colab": {
   "authorship_tag": "ABX9TyPnqQPo+rJqCaal8sJ9Uwd0",
   "gpuType": "T4",
   "provenance": []
  },
  "kernelspec": {
   "display_name": "Python 3",
   "name": "python3"
  },
  "language_info": {
   "name": "python"
  }
 },
 "nbformat": 4,
 "nbformat_minor": 0
}
